{
 "cells": [
  {
   "cell_type": "code",
   "execution_count": 1,
   "id": "3b114a00-1711-409b-8ef9-36ac4e3e319f",
   "metadata": {
    "id": "3b114a00-1711-409b-8ef9-36ac4e3e319f"
   },
   "outputs": [],
   "source": [
    "import numpy as np\n",
    "import pandas as pd\n",
    "import matplotlib.pyplot as plt\n",
    "import seaborn as sns\n",
    "\n",
    "import os\n",
    "import torch\n",
    "\n",
    "from IPython.display import clear_output\n",
    "from tqdm import tqdm\n",
    "from torchvision import models, datasets, transforms"
   ]
  },
  {
   "cell_type": "code",
   "execution_count": 2,
   "id": "8885ac6b-1df0-4719-9fdd-4b1265bff6fa",
   "metadata": {
    "colab": {
     "base_uri": "https://localhost:8080/"
    },
    "executionInfo": {
     "elapsed": 9,
     "status": "ok",
     "timestamp": 1753189097401,
     "user": {
      "displayName": "Schpick",
      "userId": "13471926984156122626"
     },
     "user_tz": -180
    },
    "id": "8885ac6b-1df0-4719-9fdd-4b1265bff6fa",
    "outputId": "cef9f8d2-fb9a-4dd4-e3e3-87e6f1526ac1"
   },
   "outputs": [
    {
     "name": "stdout",
     "output_type": "stream",
     "text": [
      "cuda:0\n"
     ]
    }
   ],
   "source": [
    "device = torch.device('cuda:0' if torch.cuda.is_available() else 'cpu')\n",
    "print(device)"
   ]
  },
  {
   "cell_type": "code",
   "execution_count": 3,
   "id": "22f51cac-5649-45da-905b-242de12c14ee",
   "metadata": {
    "id": "22f51cac-5649-45da-905b-242de12c14ee"
   },
   "outputs": [],
   "source": [
    "transforms_tensor = transforms.ToTensor()"
   ]
  },
  {
   "cell_type": "code",
   "execution_count": 4,
   "id": "54f60782-8b9d-4cb0-81a8-eb777e12810d",
   "metadata": {},
   "outputs": [],
   "source": [
    "class ImageFolderWithPaths(datasets.ImageFolder):\n",
    "    def __getitem__(self, index):\n",
    "        original_tuple = super(ImageFolderWithPaths, self).__getitem__(index)\n",
    "        path = self.imgs[index][0]\n",
    "        tuple_with_path = (original_tuple + (path,))\n",
    "        return tuple_with_path"
   ]
  },
  {
   "cell_type": "code",
   "execution_count": 5,
   "id": "e72043dd-05db-40bd-9689-6bbd8366a9b5",
   "metadata": {
    "colab": {
     "background_save": true
    },
    "id": "e72043dd-05db-40bd-9689-6bbd8366a9b5"
   },
   "outputs": [],
   "source": [
    "path = ''#'/content/drive/MyDrive/Documents/whales'\n",
    "\n",
    "train_folder = datasets.ImageFolder(os.path.join(path, 'whales_train'), transforms_tensor)\n",
    "val_folder = datasets.ImageFolder(os.path.join(path, 'whales_val'), transforms_tensor)\n",
    "test_folder = datasets.ImageFolder(os.path.join(path, 'whales_test'), transforms_tensor) \n",
    "\n",
    "batch_size = 50\n",
    "\n",
    "dataloaders = {'train' : torch.utils.data.DataLoader(train_folder, batch_size=batch_size, shuffle=True),\n",
    "               'val' : torch.utils.data.DataLoader(val_folder, batch_size=batch_size, shuffle=True),\n",
    "               'test' :  torch.utils.data.DataLoader(test_folder, batch_size=batch_size, shuffle=False)}\n",
    "\n",
    "sample_submission = pd.read_csv(os.path.join(path, 'sample_submission.csv'))"
   ]
  },
  {
   "cell_type": "code",
   "execution_count": 6,
   "id": "3162f16f-c927-43a1-b7fc-380836a1d56a",
   "metadata": {
    "colab": {
     "background_save": true
    },
    "id": "3162f16f-c927-43a1-b7fc-380836a1d56a"
   },
   "outputs": [],
   "source": [
    "model = models.resnet50()\n",
    "clear_output()\n",
    "\n",
    "# for param in model.parameters():\n",
    "#   param.requires_grad = Falsez\n",
    "model.fc = torch.nn.Linear(model.fc.in_features, len(train_folder.classes))\n",
    "loss = torch.nn.CrossEntropyLoss()\n",
    "optimizer = torch.optim.Adam(model.parameters(), .001)\n",
    "scheduler = torch.optim.lr_scheduler.OneCycleLR(optimizer, max_lr=0.1, steps_per_epoch=len(dataloaders['train']), epochs=100)"
   ]
  },
  {
   "cell_type": "code",
   "execution_count": 7,
   "id": "c30b8e0c-de05-41b1-9ccb-33d1547773ed",
   "metadata": {
    "colab": {
     "background_save": true
    },
    "id": "c30b8e0c-de05-41b1-9ccb-33d1547773ed"
   },
   "outputs": [],
   "source": [
    "def train(model, optimizer, loss, epochs):\n",
    "    model.to(device)\n",
    "    metrics = [[], []]\n",
    "\n",
    "    for epoch in range(epochs):\n",
    "        print(f'Epoch {epoch + 1}/{epochs}')\n",
    "        for stage in ['train', 'val']:\n",
    "            model.train() if stage == 'train' else model.eval()\n",
    "            running_loss = 0.0\n",
    "            running_acc = 0.0\n",
    "\n",
    "            with torch.set_grad_enabled(stage == 'train'):\n",
    "                for inputs, labels in tqdm(dataloaders[stage]):\n",
    "                    inputs, labels = inputs.to(device), labels.to(device)\n",
    "\n",
    "                    optimizer.zero_grad()\n",
    "                    preds = model(inputs)\n",
    "                    loss_value = loss(preds, labels)\n",
    "\n",
    "                    if stage == 'train':\n",
    "                        loss_value.backward()\n",
    "                        optimizer.step()\n",
    "\n",
    "                    # Validation: Ensure no tensor accumulation\n",
    "                    if stage == 'val':\n",
    "                        running_loss += loss_value.item()\n",
    "                        running_acc += (preds.argmax(1) == labels).float().mean().item()\n",
    "\n",
    "            # End of stage\n",
    "            if stage == 'val':\n",
    "                metrics[0].append(running_loss / len(dataloaders[stage]))\n",
    "                metrics[1].append(running_acc / len(dataloaders[stage]))\n",
    "                torch.cuda.empty_cache()  # Force cleanup\n",
    "\n",
    "        clear_output()\n",
    "    return metrics"
   ]
  },
  {
   "cell_type": "code",
   "execution_count": 18,
   "id": "567f4836-7405-4f29-b73e-0038c0bc4b7a",
   "metadata": {
    "colab": {
     "base_uri": "https://localhost:8080/",
     "height": 367
    },
    "executionInfo": {
     "elapsed": 561205,
     "status": "error",
     "timestamp": 1753189968530,
     "user": {
      "displayName": "Schpick",
      "userId": "13471926984156122626"
     },
     "user_tz": -180
    },
    "id": "567f4836-7405-4f29-b73e-0038c0bc4b7a",
    "outputId": "d870b110-ecc6-4bfc-cbd5-26c4c52342f3"
   },
   "outputs": [],
   "source": [
    "metrics = train(model, optimizer, loss, 20)"
   ]
  },
  {
   "cell_type": "code",
   "execution_count": 19,
   "id": "14c7d19b-3a51-4b6e-b231-735a88f24978",
   "metadata": {},
   "outputs": [
    {
     "data": {
      "image/png": "[encoded data removed]",
      "text/plain": [
       "<Figure size 640x480 with 2 Axes>"
      ]
     },
     "metadata": {},
     "output_type": "display_data"
    }
   ],
   "source": [
    "nrange = range(20)\n",
    "l = len(metrics)\n",
    "labels = ['Running CEL', 'Running Accuracy']\n",
    "\n",
    "fig, axes = plt.subplots(l, 1)\n",
    "\n",
    "for i in range(l):\n",
    "    axes[i].plot(nrange, metrics[i])\n",
    "    #axes[i].plot(nrange, metrics[1])\n",
    "    axes[i].set_xlabel(labels[i])\n",
    "plt.tight_layout()\n",
    "plt.show()"
   ]
  },
  {
   "cell_type": "code",
   "execution_count": 20,
   "id": "9e0408bb-1d71-48de-a161-57dc407f70b3",
   "metadata": {},
   "outputs": [],
   "source": [
    "model = model.eval()"
   ]
  },
  {
   "cell_type": "code",
   "execution_count": 21,
   "id": "5fd59154-9a8a-4f80-9ca5-9f00995bfbff",
   "metadata": {},
   "outputs": [
    {
     "name": "stderr",
     "output_type": "stream",
     "text": [
      "100%|██████████████████████████████████████████████████████████████████████████████████████████████████████████████████████| 313/313 [00:30<00:00, 10.39it/s]\n"
     ]
    }
   ],
   "source": [
    "submission_preds = []\n",
    "for inputs, labels in tqdm(dataloaders['test']):\n",
    "                inputs = inputs.to(device)\n",
    "            \n",
    "                preds = model.forward(inputs).sort(dim=1)[1][:, -5:].tolist()\n",
    "                submission_preds.extend(preds)"
   ]
  },
  {
   "cell_type": "code",
   "execution_count": 22,
   "id": "fa086fcf-a7ea-4bd4-9323-dd7e00c19306",
   "metadata": {
    "scrolled": true
   },
   "outputs": [],
   "source": [
    "submission = sample_submission\n",
    "submission['Id'] = submission_preds"
   ]
  },
  {
   "cell_type": "code",
   "execution_count": 23,
   "id": "c4f0d564-1e06-4177-b079-742d926f75f0",
   "metadata": {},
   "outputs": [],
   "source": [
    "classes = train_folder.classes\n",
    "submission = submission.set_index('Image')\n",
    "submission['Id'] = submission['Id'].map(lambda x: ' '.join([classes[i] for i in x[::-1]]))"
   ]
  },
  {
   "cell_type": "code",
   "execution_count": 24,
   "id": "9d95352f-4a7f-4462-a701-8031e01ea890",
   "metadata": {},
   "outputs": [
    {
     "data": {
      "text/html": [
       "<div>\n",
       "<style scoped>\n",
       "    .dataframe tbody tr th:only-of-type {\n",
       "        vertical-align: middle;\n",
       "    }\n",
       "\n",
       "    .dataframe tbody tr th {\n",
       "        vertical-align: top;\n",
       "    }\n",
       "\n",
       "    .dataframe thead th {\n",
       "        text-align: right;\n",
       "    }\n",
       "</style>\n",
       "<table border=\"1\" class=\"dataframe\">\n",
       "  <thead>\n",
       "    <tr style=\"text-align: right;\">\n",
       "      <th></th>\n",
       "      <th>Id</th>\n",
       "    </tr>\n",
       "    <tr>\n",
       "      <th>Image</th>\n",
       "      <th></th>\n",
       "    </tr>\n",
       "  </thead>\n",
       "  <tbody>\n",
       "    <tr>\n",
       "      <th>00029b3a.jpg</th>\n",
       "      <td>new_whale w_a8ec52f w_104cc93 w_37a7f78 w_3eaef21</td>\n",
       "    </tr>\n",
       "    <tr>\n",
       "      <th>0003c693.jpg</th>\n",
       "      <td>w_80245ee w_e964ae8 new_whale w_0b775c1 w_f4844e7</td>\n",
       "    </tr>\n",
       "    <tr>\n",
       "      <th>000bc353.jpg</th>\n",
       "      <td>w_ca5f17f w_520d618 new_whale w_4f82020 w_ecbf9fa</td>\n",
       "    </tr>\n",
       "    <tr>\n",
       "      <th>0010a672.jpg</th>\n",
       "      <td>new_whale w_367b996 w_44a6b62 w_861cc1c w_987a36f</td>\n",
       "    </tr>\n",
       "    <tr>\n",
       "      <th>00119c3f.jpg</th>\n",
       "      <td>new_whale w_7eb2c7c w_0ead9d7 w_41fa033 w_0d48a7d</td>\n",
       "    </tr>\n",
       "    <tr>\n",
       "      <th>...</th>\n",
       "      <td>...</td>\n",
       "    </tr>\n",
       "    <tr>\n",
       "      <th>fff31d26.jpg</th>\n",
       "      <td>new_whale w_1287fbc w_9db9ef5 w_cae7677 w_dcb1f2a</td>\n",
       "    </tr>\n",
       "    <tr>\n",
       "      <th>fff3d049.jpg</th>\n",
       "      <td>w_b39c722 new_whale w_511c464 w_61ffd2c w_7b3f9d1</td>\n",
       "    </tr>\n",
       "    <tr>\n",
       "      <th>fffa5100.jpg</th>\n",
       "      <td>new_whale w_be0fefb w_1dff010 w_4659acf w_89317b0</td>\n",
       "    </tr>\n",
       "    <tr>\n",
       "      <th>fffa6215.jpg</th>\n",
       "      <td>w_17ee910 w_b4732ef w_f438375 new_whale w_09d7946</td>\n",
       "    </tr>\n",
       "    <tr>\n",
       "      <th>ffffdd7f.jpg</th>\n",
       "      <td>w_11adaae w_b7d5069 w_2fe43c7 w_9ca943b w_569c2c7</td>\n",
       "    </tr>\n",
       "  </tbody>\n",
       "</table>\n",
       "<p>15610 rows × 1 columns</p>\n",
       "</div>"
      ],
      "text/plain": [
       "                                                             Id\n",
       "Image                                                          \n",
       "00029b3a.jpg  new_whale w_a8ec52f w_104cc93 w_37a7f78 w_3eaef21\n",
       "0003c693.jpg  w_80245ee w_e964ae8 new_whale w_0b775c1 w_f4844e7\n",
       "000bc353.jpg  w_ca5f17f w_520d618 new_whale w_4f82020 w_ecbf9fa\n",
       "0010a672.jpg  new_whale w_367b996 w_44a6b62 w_861cc1c w_987a36f\n",
       "00119c3f.jpg  new_whale w_7eb2c7c w_0ead9d7 w_41fa033 w_0d48a7d\n",
       "...                                                         ...\n",
       "fff31d26.jpg  new_whale w_1287fbc w_9db9ef5 w_cae7677 w_dcb1f2a\n",
       "fff3d049.jpg  w_b39c722 new_whale w_511c464 w_61ffd2c w_7b3f9d1\n",
       "fffa5100.jpg  new_whale w_be0fefb w_1dff010 w_4659acf w_89317b0\n",
       "fffa6215.jpg  w_17ee910 w_b4732ef w_f438375 new_whale w_09d7946\n",
       "ffffdd7f.jpg  w_11adaae w_b7d5069 w_2fe43c7 w_9ca943b w_569c2c7\n",
       "\n",
       "[15610 rows x 1 columns]"
      ]
     },
     "execution_count": 24,
     "metadata": {},
     "output_type": "execute_result"
    }
   ],
   "source": [
    "submission"
   ]
  },
  {
   "cell_type": "code",
   "execution_count": 26,
   "id": "8f04c544-9ef3-434d-a791-5f73a90aca91",
   "metadata": {
    "scrolled": true
   },
   "outputs": [],
   "source": [
    "submission.to_csv('sub.csv')"
   ]
  }
 ],
 "metadata": {
  "accelerator": "GPU",
  "colab": {
   "gpuType": "T4",
   "provenance": []
  },
  "kernelspec": {
   "display_name": "Python 3 (ipykernel)",
   "language": "python",
   "name": "python3"
  },
  "language_info": {
   "codemirror_mode": {
    "name": "ipython",
    "version": 3
   },
   "file_extension": ".py",
   "mimetype": "text/x-python",
   "name": "python",
   "nbconvert_exporter": "python",
   "pygments_lexer": "ipython3",
   "version": "3.13.5"
  }
 },
 "nbformat": 4,
 "nbformat_minor": 5
}
